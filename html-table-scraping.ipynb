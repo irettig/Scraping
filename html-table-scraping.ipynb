{
 "cells": [
  {
   "cell_type": "code",
   "execution_count": 18,
   "id": "4e61cd41-5124-499c-a4ee-9a22bfe244fa",
   "metadata": {},
   "outputs": [],
   "source": [
    "import urllib.request\n",
    "from pprint import pprint\n",
    "from html_table_parser.parser import HTMLTableParser\n",
    "import pandas as pd"
   ]
  },
  {
   "cell_type": "code",
   "execution_count": 19,
   "id": "96a78dcd-bd11-420c-92f6-d07e2ba946ce",
   "metadata": {},
   "outputs": [],
   "source": [
    "def url_get_contents(url):\n",
    "    req = urllib.request.Request(url=url)\n",
    "    f = urllib.request.urlopen(req)\n",
    "    return f.read()"
   ]
  },
  {
   "cell_type": "code",
   "execution_count": 20,
   "id": "ba14cbf6-fefd-4ec7-a8a0-160ff640a1ca",
   "metadata": {},
   "outputs": [
    {
     "name": "stdout",
     "output_type": "stream",
     "text": [
      "[['BUY', 'SELL'],\n",
      " ['QTY', 'PRICE', 'PRICE', 'QTY'],\n",
      " ['20', '2522.05', '2526.05', '90'],\n",
      " ['8', '2520.90', '2526.10', '21'],\n",
      " ['174', '2520.15', '2526.15', '62'],\n",
      " ['5', '2520.00', '2526.40', '90'],\n",
      " ['169', '2519.80', '2527.50', '10'],\n",
      " ['0', 'Total', 'Total', '0']]\n"
     ]
    }
   ],
   "source": [
    "xhtml = url_get_contents('https://www.moneycontrol.com/india/stockpricequote/refineries/relianceindustries/RI').decode('utf-8')\n",
    "p = HTMLTableParser()\n",
    "p.feed(xhtml)\n",
    "pprint(p.tables[1])"
   ]
  },
  {
   "cell_type": "code",
   "execution_count": 21,
   "id": "8e8ca8dd-49ec-4747-a12a-28d660d746f5",
   "metadata": {},
   "outputs": [
    {
     "name": "stdout",
     "output_type": "stream",
     "text": [
      "\n",
      "\n",
      "PANDAS DATAFRAME\n",
      "\n",
      "     0        1        2     3\n",
      "0  BUY     SELL     None  None\n",
      "1  QTY    PRICE    PRICE   QTY\n",
      "2   20  2522.05  2526.05    90\n",
      "3    8  2520.90  2526.10    21\n",
      "4  174  2520.15  2526.15    62\n",
      "5    5  2520.00  2526.40    90\n",
      "6  169  2519.80  2527.50    10\n",
      "7    0    Total    Total     0\n"
     ]
    }
   ],
   "source": [
    "print(\"\\n\\nPANDAS DATAFRAME\\n\")\n",
    "print(pd.DataFrame(p.tables[1]))"
   ]
  },
  {
   "cell_type": "code",
   "execution_count": 22,
   "id": "463c8176-66b3-4b35-afbb-433338939b40",
   "metadata": {},
   "outputs": [
    {
     "data": {
      "text/plain": [
       "'0,1,2,3\\nBUY,SELL,,\\nQTY,PRICE,PRICE,QTY\\n20,2522.05,2526.05,90\\n8,2520.90,2526.10,21\\n174,2520.15,2526.15,62\\n5,2520.00,2526.40,90\\n169,2519.80,2527.50,10\\n0,Total,Total,0\\n'"
      ]
     },
     "execution_count": 22,
     "metadata": {},
     "output_type": "execute_result"
    }
   ],
   "source": [
    "df = pd.DataFrame(p.tables[1])\n",
    "df.to_csv(index=False)"
   ]
  },
  {
   "cell_type": "code",
   "execution_count": 23,
   "id": "f9fa65db-0e6b-45c9-bd25-7ea4cc930964",
   "metadata": {},
   "outputs": [],
   "source": [
    "compression_opts = dict(method='zip',\n",
    "                        archive_name='out.csv')  \n",
    "df.to_csv('out.zip', index=False,\n",
    "          compression=compression_opts)"
   ]
  },
  {
   "cell_type": "code",
   "execution_count": 24,
   "id": "be660a1c-b355-49dd-8d77-9a9aceff570c",
   "metadata": {},
   "outputs": [],
   "source": [
    "import os  \n",
    "os.makedirs('/Users/irettig/Documents/DataScienceLearning/html-to-csv_output', exist_ok=True)  \n",
    "df.to_csv('/Users/irettig/Documents/DataScienceLearning/html-to-csv_output/out.csv')"
   ]
  }
 ],
 "metadata": {
  "kernelspec": {
   "display_name": "Python 3 (ipykernel)",
   "language": "python",
   "name": "python3"
  },
  "language_info": {
   "codemirror_mode": {
    "name": "ipython",
    "version": 3
   },
   "file_extension": ".py",
   "mimetype": "text/x-python",
   "name": "python",
   "nbconvert_exporter": "python",
   "pygments_lexer": "ipython3",
   "version": "3.11.4"
  }
 },
 "nbformat": 4,
 "nbformat_minor": 5
}
